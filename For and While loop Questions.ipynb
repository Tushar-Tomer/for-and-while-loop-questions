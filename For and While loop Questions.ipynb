{
 "cells": [
  {
   "cell_type": "markdown",
   "id": "937ee9b6",
   "metadata": {},
   "source": [
    "# Task1- Except Q5 and Q6 Do all these from for loop.\n",
    "# Task -2 Do all these questions using while loop\n"
   ]
  },
  {
   "cell_type": "markdown",
   "id": "107bc613",
   "metadata": {},
   "source": [
    "# ==========================================================="
   ]
  },
  {
   "cell_type": "markdown",
   "id": "a0f44251",
   "metadata": {},
   "source": [
    "# All 11 Questions are in for loop."
   ]
  },
  {
   "cell_type": "markdown",
   "id": "7b1c9a06",
   "metadata": {},
   "source": [
    "# ==========================================================="
   ]
  },
  {
   "cell_type": "markdown",
   "id": "d0956622",
   "metadata": {},
   "source": [
    "# Q-1 Write a program to print the following using while loop   \n",
    "a. First 10 Even numbers   \n",
    "b. First 10 Odd numbers   \n",
    "c. First 10 Natural numbers   \n",
    "d. First 10 Whole numbers   "
   ]
  },
  {
   "cell_type": "markdown",
   "id": "76ee948e",
   "metadata": {},
   "source": [
    "# a. First 10 Even numbers"
   ]
  },
  {
   "cell_type": "code",
   "execution_count": 3,
   "id": "a03ef8c2",
   "metadata": {},
   "outputs": [
    {
     "name": "stdout",
     "output_type": "stream",
     "text": [
      "2\n",
      "4\n",
      "6\n",
      "8\n",
      "10\n",
      "12\n",
      "14\n",
      "16\n",
      "18\n",
      "20\n"
     ]
    }
   ],
   "source": [
    "for i in range(1,21):\n",
    "    if i%2==0:\n",
    "        print(i)"
   ]
  },
  {
   "cell_type": "markdown",
   "id": "3b80c0ad",
   "metadata": {},
   "source": [
    "# b. First 10 Odd numbers"
   ]
  },
  {
   "cell_type": "code",
   "execution_count": 4,
   "id": "05059ac9",
   "metadata": {},
   "outputs": [
    {
     "name": "stdout",
     "output_type": "stream",
     "text": [
      "1\n",
      "3\n",
      "5\n",
      "7\n",
      "9\n",
      "11\n",
      "13\n",
      "15\n",
      "17\n",
      "19\n"
     ]
    }
   ],
   "source": [
    "for i in range(1,20):\n",
    "    if i%2!=0:\n",
    "        print(i)"
   ]
  },
  {
   "cell_type": "markdown",
   "id": "c9552560",
   "metadata": {},
   "source": [
    "# c. First 10 Natural numbers"
   ]
  },
  {
   "cell_type": "code",
   "execution_count": 5,
   "id": "5505d268",
   "metadata": {},
   "outputs": [
    {
     "name": "stdout",
     "output_type": "stream",
     "text": [
      "1\n",
      "2\n",
      "3\n",
      "4\n",
      "5\n",
      "6\n",
      "7\n",
      "8\n",
      "9\n",
      "10\n"
     ]
    }
   ],
   "source": [
    "for i in range(1,11):\n",
    "    print(i)"
   ]
  },
  {
   "cell_type": "markdown",
   "id": "bbc0494e",
   "metadata": {},
   "source": [
    "# d. First 10 Whole numbers"
   ]
  },
  {
   "cell_type": "code",
   "execution_count": 6,
   "id": "080bcae4",
   "metadata": {},
   "outputs": [
    {
     "name": "stdout",
     "output_type": "stream",
     "text": [
      "0\n",
      "1\n",
      "2\n",
      "3\n",
      "4\n",
      "5\n",
      "6\n",
      "7\n",
      "8\n",
      "9\n"
     ]
    }
   ],
   "source": [
    "for i in range(10):\n",
    "    print(i)"
   ]
  },
  {
   "cell_type": "markdown",
   "id": "687c26e9",
   "metadata": {},
   "source": [
    "# Q-2 Write a program to print first 10 integers and their squares using for loop.   \n",
    "1 1   \n",
    "2 4   \n",
    "3 9 and so on  \n"
   ]
  },
  {
   "cell_type": "code",
   "execution_count": 7,
   "id": "d49f3f2e",
   "metadata": {},
   "outputs": [
    {
     "name": "stdout",
     "output_type": "stream",
     "text": [
      "1 . 1\n",
      "2 . 4\n",
      "3 . 9\n",
      "4 . 16\n",
      "5 . 25\n",
      "6 . 36\n",
      "7 . 49\n",
      "8 . 64\n",
      "9 . 81\n",
      "10 . 100\n"
     ]
    }
   ],
   "source": [
    "for i in range(1,11):\n",
    "    print(i,\".\",i**2)"
   ]
  },
  {
   "cell_type": "markdown",
   "id": "abbfa078",
   "metadata": {},
   "source": [
    "# Q-3 Write for loop statement to print the following series:   \n",
    "#### 10\n",
    "#### 20\n",
    "#### 30 \n",
    "#### .\n",
    "#### .\n",
    "#### .\n",
    "#### 300   \n"
   ]
  },
  {
   "cell_type": "code",
   "execution_count": 3,
   "id": "ef7378df",
   "metadata": {},
   "outputs": [
    {
     "name": "stdout",
     "output_type": "stream",
     "text": [
      "10 20 30 40 50 60 70 80 90 100 110 120 130 140 150 160 170 180 190 200 210 220 230 240 250 260 270 280 290 300 "
     ]
    }
   ],
   "source": [
    "a=10\n",
    "for i in range(1,31):\n",
    "    print(a,end=\" \")\n",
    "    a=a+10"
   ]
  },
  {
   "cell_type": "code",
   "execution_count": 4,
   "id": "fb9dd2fd",
   "metadata": {},
   "outputs": [
    {
     "name": "stdout",
     "output_type": "stream",
     "text": [
      "10 20 30 40 50 60 70 80 90 100 110 120 130 140 150 160 170 180 190 200 210 220 230 240 250 260 270 280 290 300 "
     ]
    }
   ],
   "source": [
    "for i in range(10,301,10):\n",
    "    print(i,end=\" \")"
   ]
  },
  {
   "cell_type": "markdown",
   "id": "91deb541",
   "metadata": {},
   "source": [
    "# Q-4 Write a while loop statement to print the following series   \n",
    "105\n",
    "98\n",
    "91 \n",
    ".\n",
    ".\n",
    ".\n",
    ".\n",
    "7\n"
   ]
  },
  {
   "cell_type": "code",
   "execution_count": 5,
   "id": "51f415e4",
   "metadata": {},
   "outputs": [
    {
     "name": "stdout",
     "output_type": "stream",
     "text": [
      "105\n",
      "98\n",
      "91\n",
      "84\n",
      "77\n",
      "70\n",
      "63\n",
      "56\n",
      "49\n",
      "42\n",
      "35\n",
      "28\n",
      "21\n",
      "14\n",
      "7\n"
     ]
    }
   ],
   "source": [
    "i=105\n",
    "while i>6:\n",
    "    print(i)\n",
    "    i-=7"
   ]
  },
  {
   "cell_type": "code",
   "execution_count": 18,
   "id": "a2ad775d",
   "metadata": {},
   "outputs": [
    {
     "name": "stdout",
     "output_type": "stream",
     "text": [
      "105\n",
      "98\n",
      "91\n",
      "84\n",
      "77\n",
      "70\n",
      "63\n",
      "56\n",
      "49\n",
      "42\n",
      "35\n",
      "28\n",
      "21\n",
      "14\n",
      "7\n"
     ]
    }
   ],
   "source": [
    "a=105\n",
    "for i in range(1,16):\n",
    "    print(a)\n",
    "    a=a-7"
   ]
  },
  {
   "cell_type": "markdown",
   "id": "85bf5159",
   "metadata": {},
   "source": [
    "# Q-5 Write a program to enter the numbers till the user wants and at the end it should display the sum of all the numbers entered.   "
   ]
  },
  {
   "cell_type": "code",
   "execution_count": 9,
   "id": "a8fbfc16",
   "metadata": {},
   "outputs": [
    {
     "name": "stdout",
     "output_type": "stream",
     "text": [
      "How many no. are you enter=10\n",
      "Enter no. 1=10\n",
      "Enter no. 2=10\n",
      "Enter no. 3=10\n",
      "Enter no. 4=10\n",
      "Enter no. 5=10\n",
      "Enter no. 6=10\n",
      "Enter no. 7=10\n",
      "Enter no. 8=10\n",
      "Enter no. 9=10\n",
      "Enter no. 10=10\n",
      "Sum of all the enter no.= 100\n"
     ]
    }
   ],
   "source": [
    "s=0\n",
    "n=int(input(\"How many no. are you enter=\"))\n",
    "for i in range(1,n+1):\n",
    "    a=int(input(\"Enter no. \"+str(i)+\"=\"))\n",
    "    s=s+a\n",
    "print(\"Sum of all the enter no.=\",s)"
   ]
  },
  {
   "cell_type": "markdown",
   "id": "23b731c3",
   "metadata": {},
   "source": [
    "# Q-6 Write a program to enter the numbers till the user enter ZERO and at the end it should display the count and sum of positive  , negative numbers  entered.   "
   ]
  },
  {
   "cell_type": "code",
   "execution_count": 1,
   "id": "464b8e5d",
   "metadata": {},
   "outputs": [
    {
     "name": "stdout",
     "output_type": "stream",
     "text": [
      "If you don't input any no. press 0:\n",
      "How many no. are you enter=4\n",
      "Enter no.1=4\n",
      "Enter no.2=-4\n",
      "Enter no.3=8\n",
      "Enter no.4=-8\n",
      "Total Positive No.= 2\n",
      "Sum of all Positive No.= 12\n",
      "Total Negative No.= 2\n",
      "Sum of all Negative No.= -12\n"
     ]
    }
   ],
   "source": [
    "s=0\n",
    "c=0\n",
    "x=0\n",
    "y=0\n",
    "w=1\n",
    "print(\"If you don't input any no. press 0:\")\n",
    "n=int(input(\"How many no. are you enter=\"))\n",
    "for i in range(1,n+1):\n",
    "    a=int(input(\"Enter no.\"+ str(w) +\"=\"))\n",
    "    w+=1\n",
    "    if a>0:\n",
    "        c=c+1\n",
    "        s=s+a\n",
    "    elif a<0:\n",
    "        x=x+1\n",
    "        y=y+a\n",
    "    else:\n",
    "        break\n",
    "print(\"Total Positive No.=\",c)\n",
    "print(\"Sum of all Positive No.=\",s)\n",
    "print(\"Total Negative No.=\",x)\n",
    "print(\"Sum of all Negative No.=\",y)"
   ]
  },
  {
   "cell_type": "markdown",
   "id": "2ade4074",
   "metadata": {},
   "source": [
    "# Q-7 Write a program to display all the numbers which are divisible by 13 but not by 3 between 100 and 500.(exclusive both numbers)   "
   ]
  },
  {
   "cell_type": "code",
   "execution_count": 41,
   "id": "a61cd73f",
   "metadata": {},
   "outputs": [
    {
     "name": "stdout",
     "output_type": "stream",
     "text": [
      "104\n",
      "130\n",
      "143\n",
      "169\n",
      "182\n",
      "208\n",
      "221\n",
      "247\n",
      "260\n",
      "286\n",
      "299\n",
      "325\n",
      "338\n",
      "364\n",
      "377\n",
      "403\n",
      "416\n",
      "442\n",
      "455\n",
      "481\n",
      "494\n"
     ]
    }
   ],
   "source": [
    "for i in range(100,500):\n",
    "    if i%13==0:\n",
    "        if i%3!=0:\n",
    "            print(i)"
   ]
  },
  {
   "cell_type": "markdown",
   "id": "b0d14a9a",
   "metadata": {},
   "source": [
    "# Q-8 . Write a program to accept 10 numbers from the user and display the largest & smallest number number."
   ]
  },
  {
   "cell_type": "code",
   "execution_count": 1,
   "id": "c69f8147",
   "metadata": {},
   "outputs": [
    {
     "name": "stdout",
     "output_type": "stream",
     "text": [
      "Enter NO.1=2\n",
      "Enter NO.2=6\n",
      "Enter NO.3=7\n",
      "Enter NO.4=9\n",
      "Enter NO.5=4\n",
      "Enter NO.6=5\n",
      "Enter NO.7=7\n",
      "Enter NO.8=6\n",
      "Enter NO.9=24\n",
      "Enter NO.10=0\n",
      "Small= 0\n",
      "Large= 24\n"
     ]
    }
   ],
   "source": [
    "l=0\n",
    "b=0\n",
    "w=1\n",
    "for i in range(1,11):\n",
    "    a=int(input(\"Enter NO.\"+str(w)+\"=\"))\n",
    "    w=w+1\n",
    "    if b==0:\n",
    "        s=a\n",
    "        b=b+1\n",
    "    if a>l:\n",
    "        l=a\n",
    "    if a<s:\n",
    "        s=a\n",
    "print(\"Small=\",s)\n",
    "print(\"Large=\",l)"
   ]
  },
  {
   "cell_type": "code",
   "execution_count": 12,
   "id": "71f67a39",
   "metadata": {},
   "outputs": [
    {
     "name": "stdout",
     "output_type": "stream",
     "text": [
      "Enter No.1 = 5\n",
      "Enter No.2 = 6\n",
      "Enter No.3 = 44\n",
      "Enter No.4 = 2\n",
      "Enter No.5 = 88\n",
      "Enter No.6 = 94\n",
      "Enter No.7 = 56\n",
      "Enter No.8 = 74\n",
      "Enter No.9 = 50\n",
      "Enter No.10 = 54\n",
      "Minimum number =  2\n",
      "Maximum number =  94\n"
     ]
    }
   ],
   "source": [
    "l=[]\n",
    "for i in range(1,11):\n",
    "    a=int(input(\"Enter No.\"+str(i)+\" = \"))\n",
    "    l.append(a)\n",
    "print(\"Minimum number = \",min(l))\n",
    "print(\"Maximum number = \",max(l))"
   ]
  },
  {
   "cell_type": "code",
   "execution_count": 2,
   "id": "92958e05",
   "metadata": {},
   "outputs": [
    {
     "name": "stdout",
     "output_type": "stream",
     "text": [
      "Enter NO.1=4\n",
      "Enter NO.2=4\n",
      "Enter NO.3=5\n",
      "Enter NO.4=8\n",
      "Enter NO.5=6\n",
      "Enter NO.6=9\n",
      "Enter NO.7=7\n",
      "Enter NO.8=24\n",
      "Enter NO.9=1\n",
      "Enter NO.10=6\n",
      "Small= 1\n",
      "Large= 24\n"
     ]
    }
   ],
   "source": [
    "n=10\n",
    "l=0\n",
    "b=0\n",
    "w=1\n",
    "while n!=0:\n",
    "    a=int(input(\"Enter NO.\"+str(w)+\"=\"))\n",
    "    w=w+1\n",
    "    n=n-1\n",
    "    if b==0:\n",
    "        s=a\n",
    "        b=b+1\n",
    "    if a>l:\n",
    "        l=a\n",
    "    if a<s:\n",
    "        s=a\n",
    "print(\"Small=\",s)\n",
    "print(\"Large=\",l)"
   ]
  },
  {
   "cell_type": "markdown",
   "id": "c97d2c78",
   "metadata": {},
   "source": [
    "# Q-9 Write a program to print the following series till n terms.   \n",
    "#### 1\n",
    "#### 4\n",
    "#### 9\n",
    "#### 16\n",
    "#### 25\n",
    "#### n terms."
   ]
  },
  {
   "cell_type": "code",
   "execution_count": 12,
   "id": "22a5b688",
   "metadata": {},
   "outputs": [
    {
     "name": "stdout",
     "output_type": "stream",
     "text": [
      "Enter how many no. are you square=10\n",
      "1\n",
      "4\n",
      "9\n",
      "16\n",
      "25\n",
      "36\n",
      "49\n",
      "64\n",
      "81\n",
      "100\n"
     ]
    }
   ],
   "source": [
    "n=int(input(\"Enter how many no. are you square=\"))\n",
    "for i in range(1,n+1):\n",
    "    print(i**2)"
   ]
  },
  {
   "cell_type": "markdown",
   "id": "ed3754d9",
   "metadata": {},
   "source": [
    "# Q-10 Q10. Write a program to display the number names of the digits of a number entered by user, \n",
    "#### for example if the number is 231 \n",
    "#### then output should be\n",
    "#### Two\n",
    "#### Three\n",
    "#### One\n"
   ]
  },
  {
   "cell_type": "code",
   "execution_count": 15,
   "id": "3964bc4a",
   "metadata": {},
   "outputs": [
    {
     "name": "stdout",
     "output_type": "stream",
     "text": [
      "Enter Any No.=44\n",
      "Four\n",
      "Four\n"
     ]
    }
   ],
   "source": [
    "n=input(\"Enter Any No.=\")\n",
    "for i in n:\n",
    "    if i=='0':\n",
    "        print(\"Zero\")\n",
    "    elif i=='1':\n",
    "        print(\"One\")\n",
    "    elif i=='2':\n",
    "        print(\"Two\")\n",
    "    elif i=='3':\n",
    "        print(\"Three\")\n",
    "    elif i=='4':\n",
    "        print(\"Four\")\n",
    "    elif i=='5':\n",
    "        print(\"Five\")\n",
    "    elif i=='6':\n",
    "        print(\"Six\")\n",
    "    elif i=='7':\n",
    "        print(\"Seven\")\n",
    "    elif i=='8':\n",
    "        print(\"Eight\")\n",
    "    else:\n",
    "        print(\"Nine\")"
   ]
  },
  {
   "cell_type": "markdown",
   "id": "53e59749",
   "metadata": {},
   "source": [
    "# Q-11 Write a python program to get the following output   \n",
    "1—–49   \n",
    "   \n",
    "2—–48   \n",
    "   \n",
    "3—–47   \n",
    "   \n",
    ". .   \n",
    "   \n",
    ". .   \n",
    "   \n",
    ". .   \n",
    "   \n",
    "48—–2   \n",
    "   \n",
    "49—–1\n"
   ]
  },
  {
   "cell_type": "code",
   "execution_count": 2,
   "id": "38a70c0a",
   "metadata": {},
   "outputs": [
    {
     "name": "stdout",
     "output_type": "stream",
     "text": [
      "1 ---- 49\n",
      "2 ---- 48\n",
      "3 ---- 47\n",
      "4 ---- 46\n",
      "5 ---- 45\n",
      "6 ---- 44\n",
      "7 ---- 43\n",
      "8 ---- 42\n",
      "9 ---- 41\n",
      "10 ---- 40\n",
      "11 ---- 39\n",
      "12 ---- 38\n",
      "13 ---- 37\n",
      "14 ---- 36\n",
      "15 ---- 35\n",
      "16 ---- 34\n",
      "17 ---- 33\n",
      "18 ---- 32\n",
      "19 ---- 31\n",
      "20 ---- 30\n",
      "21 ---- 29\n",
      "22 ---- 28\n",
      "23 ---- 27\n",
      "24 ---- 26\n",
      "25 ---- 25\n",
      "26 ---- 24\n",
      "27 ---- 23\n",
      "28 ---- 22\n",
      "29 ---- 21\n",
      "30 ---- 20\n",
      "31 ---- 19\n",
      "32 ---- 18\n",
      "33 ---- 17\n",
      "34 ---- 16\n",
      "35 ---- 15\n",
      "36 ---- 14\n",
      "37 ---- 13\n",
      "38 ---- 12\n",
      "39 ---- 11\n",
      "40 ---- 10\n",
      "41 ---- 9\n",
      "42 ---- 8\n",
      "43 ---- 7\n",
      "44 ---- 6\n",
      "45 ---- 5\n",
      "46 ---- 4\n",
      "47 ---- 3\n",
      "48 ---- 2\n",
      "49 ---- 1\n"
     ]
    }
   ],
   "source": [
    "b=49\n",
    "for i in range(1,50):\n",
    "    print(i,\"----\",b)\n",
    "    b=b-1"
   ]
  },
  {
   "cell_type": "markdown",
   "id": "45eace93",
   "metadata": {},
   "source": [
    "# All 11 Questions are in while loop"
   ]
  },
  {
   "cell_type": "markdown",
   "id": "b2d69fa5",
   "metadata": {},
   "source": [
    "# Q-1 Write a program to print the following using while loop   \n",
    "a. First 10 Even numbers   \n",
    "b. First 10 Odd numbers   \n",
    "c. First 10 Natural numbers   \n",
    "d. First 10 Whole numbers   "
   ]
  },
  {
   "cell_type": "markdown",
   "id": "3d98928d",
   "metadata": {},
   "source": [
    "# a.First 10 Even numbers"
   ]
  },
  {
   "cell_type": "code",
   "execution_count": 2,
   "id": "00bad6e0",
   "metadata": {},
   "outputs": [
    {
     "name": "stdout",
     "output_type": "stream",
     "text": [
      "20\n",
      "18\n",
      "16\n",
      "14\n",
      "12\n",
      "10\n",
      "8\n",
      "6\n",
      "4\n",
      "2\n"
     ]
    }
   ],
   "source": [
    "a=20\n",
    "while a!=0:\n",
    "    if a%2==0:\n",
    "        print(a)\n",
    "    a=a-1"
   ]
  },
  {
   "cell_type": "markdown",
   "id": "8a1a8c3c",
   "metadata": {},
   "source": [
    "# b. First 10 Odd numbers "
   ]
  },
  {
   "cell_type": "code",
   "execution_count": 3,
   "id": "255c42ed",
   "metadata": {},
   "outputs": [
    {
     "name": "stdout",
     "output_type": "stream",
     "text": [
      "19\n",
      "17\n",
      "15\n",
      "13\n",
      "11\n",
      "9\n",
      "7\n",
      "5\n",
      "3\n",
      "1\n"
     ]
    }
   ],
   "source": [
    "a=19\n",
    "while a!=0:\n",
    "    if a%2!=0:\n",
    "        print(a)\n",
    "    a=a-1"
   ]
  },
  {
   "cell_type": "markdown",
   "id": "b779920b",
   "metadata": {},
   "source": [
    "# c. First 10 Natural numbers "
   ]
  },
  {
   "cell_type": "code",
   "execution_count": 6,
   "id": "e7a092cc",
   "metadata": {},
   "outputs": [
    {
     "name": "stdout",
     "output_type": "stream",
     "text": [
      "1\n",
      "2\n",
      "3\n",
      "4\n",
      "5\n",
      "6\n",
      "7\n",
      "8\n",
      "9\n",
      "10\n"
     ]
    }
   ],
   "source": [
    "a=1\n",
    "while a<11:\n",
    "    print(a)\n",
    "    a=a+1"
   ]
  },
  {
   "cell_type": "markdown",
   "id": "4797057a",
   "metadata": {},
   "source": [
    "# d. First 10 Whole numbers"
   ]
  },
  {
   "cell_type": "code",
   "execution_count": 7,
   "id": "1d091dfb",
   "metadata": {},
   "outputs": [
    {
     "name": "stdout",
     "output_type": "stream",
     "text": [
      "0\n",
      "1\n",
      "2\n",
      "3\n",
      "4\n",
      "5\n",
      "6\n",
      "7\n",
      "8\n",
      "9\n"
     ]
    }
   ],
   "source": [
    "a=0\n",
    "while a<10:\n",
    "    print(a)\n",
    "    a=a+1"
   ]
  },
  {
   "cell_type": "markdown",
   "id": "6e5f9758",
   "metadata": {},
   "source": [
    "# Q-2 Write a program to print first 10 integers and their squares using while loop.\n",
    "#### 1 1\n",
    "#### 2 4\n",
    "#### 3 9 and so on"
   ]
  },
  {
   "cell_type": "code",
   "execution_count": 8,
   "id": "c1fd5b4e",
   "metadata": {},
   "outputs": [
    {
     "name": "stdout",
     "output_type": "stream",
     "text": [
      "1 . 1\n",
      "2 . 4\n",
      "3 . 9\n",
      "4 . 16\n",
      "5 . 25\n",
      "6 . 36\n",
      "7 . 49\n",
      "8 . 64\n",
      "9 . 81\n",
      "10 . 100\n"
     ]
    }
   ],
   "source": [
    "a=1\n",
    "while a<=10:\n",
    "    print(a,\".\",a**2)\n",
    "    a=a+1"
   ]
  },
  {
   "cell_type": "markdown",
   "id": "c220fc5a",
   "metadata": {},
   "source": [
    "# Q-3 Write while loop statement to print the following series:   \n",
    "#### 10\n",
    "#### 20\n",
    "#### 30 \n",
    "#### .\n",
    "#### .\n",
    "#### .\n",
    "#### 300   "
   ]
  },
  {
   "cell_type": "code",
   "execution_count": 9,
   "id": "fc625ae6",
   "metadata": {},
   "outputs": [
    {
     "name": "stdout",
     "output_type": "stream",
     "text": [
      "10\n",
      "20\n",
      "30\n",
      "40\n",
      "50\n",
      "60\n",
      "70\n",
      "80\n",
      "90\n",
      "100\n",
      "110\n",
      "120\n",
      "130\n",
      "140\n",
      "150\n",
      "160\n",
      "170\n",
      "180\n",
      "190\n",
      "200\n",
      "210\n",
      "220\n",
      "230\n",
      "240\n",
      "250\n",
      "260\n",
      "270\n",
      "280\n",
      "290\n",
      "300\n"
     ]
    }
   ],
   "source": [
    "a=10\n",
    "while a<=300:\n",
    "    print(a)\n",
    "    a=a+10"
   ]
  },
  {
   "cell_type": "markdown",
   "id": "f2d9d3b9",
   "metadata": {},
   "source": [
    "# Q-4 Write a while loop statement to print the following series\n",
    "105 98 91 . . . . 7"
   ]
  },
  {
   "cell_type": "code",
   "execution_count": 10,
   "id": "591f6f50",
   "metadata": {},
   "outputs": [
    {
     "name": "stdout",
     "output_type": "stream",
     "text": [
      "105\n",
      "98\n",
      "91\n",
      "84\n",
      "77\n",
      "70\n",
      "63\n",
      "56\n",
      "49\n",
      "42\n",
      "35\n",
      "28\n",
      "21\n",
      "14\n",
      "7\n"
     ]
    }
   ],
   "source": [
    "a=105\n",
    "while a!=0:\n",
    "    print(a)\n",
    "    a=a-7"
   ]
  },
  {
   "cell_type": "markdown",
   "id": "8cd23be9",
   "metadata": {},
   "source": [
    "# Q-5 Write a program to enter the numbers till the user wants and at the end it should display the sum of all the numbers entered.   "
   ]
  },
  {
   "cell_type": "code",
   "execution_count": 12,
   "id": "080847ba",
   "metadata": {},
   "outputs": [
    {
     "name": "stdout",
     "output_type": "stream",
     "text": [
      "How many no. are you enter=4\n",
      "Enter a no.=2\n",
      "Enter a no.=6\n",
      "Enter a no.=2\n",
      "Enter a no.=10\n",
      "Sum of all the no. enter you= 20\n"
     ]
    }
   ],
   "source": [
    "n=int(input(\"How many no. are you enter=\"))\n",
    "s=0\n",
    "while n!=0:\n",
    "    a=int(input(\"Enter a no.=\"))\n",
    "    s=s+a\n",
    "    n-=1\n",
    "print(\"Sum of all the no. enter you=\",s)"
   ]
  },
  {
   "cell_type": "markdown",
   "id": "2a63f1db",
   "metadata": {},
   "source": [
    "# Q-6 Write a program to enter the numbers till the user enter ZERO and at the end it should display the count and sum of positive  , negative numbers  entered.   "
   ]
  },
  {
   "cell_type": "code",
   "execution_count": 17,
   "id": "28e95da6",
   "metadata": {},
   "outputs": [
    {
     "name": "stdout",
     "output_type": "stream",
     "text": [
      "How many no. are you enter=4\n",
      "Enter a no.=4\n",
      "Enter a no.=4\n",
      "Enter a no.=4\n",
      "Enter a no.=4\n",
      "Total Positive No.= 4\n",
      "Sum of all Positive No.= 16\n",
      "Total Negative No.= 0\n",
      "Sum of all Negative No.= 0\n"
     ]
    }
   ],
   "source": [
    "n=int(input(\"How many no. are you enter=\"))\n",
    "a=0\n",
    "b=0\n",
    "c=0\n",
    "d=0\n",
    "while n!=0:\n",
    "    m=int(input(\"Enter a no.=\"))\n",
    "    if m>0:\n",
    "        a=a+1\n",
    "        b=b+m\n",
    "    elif m<0:\n",
    "        c=c+1\n",
    "        d=d+m\n",
    "    else:\n",
    "        break\n",
    "    n=n-1\n",
    "print(\"Total Positive No.=\",a)\n",
    "print(\"Sum of all Positive No.=\",b)\n",
    "print(\"Total Negative No.=\",c)\n",
    "print(\"Sum of all Negative No.=\",d)"
   ]
  },
  {
   "cell_type": "markdown",
   "id": "b053d411",
   "metadata": {},
   "source": [
    "# Q-7 Write a program to display all the numbers which are divisible by 13 but not by 3 between 100 and 500.(exclusive both numbers)   "
   ]
  },
  {
   "cell_type": "code",
   "execution_count": 18,
   "id": "d0c6aea4",
   "metadata": {},
   "outputs": [
    {
     "name": "stdout",
     "output_type": "stream",
     "text": [
      "104\n",
      "130\n",
      "143\n",
      "169\n",
      "182\n",
      "208\n",
      "221\n",
      "247\n",
      "260\n",
      "286\n",
      "299\n",
      "325\n",
      "338\n",
      "364\n",
      "377\n",
      "403\n",
      "416\n",
      "442\n",
      "455\n",
      "481\n",
      "494\n"
     ]
    }
   ],
   "source": [
    "a=100\n",
    "b=500\n",
    "while a!=b:\n",
    "    if a%13==0:\n",
    "        if a%3!=0:\n",
    "            print(a)\n",
    "    a=a+1"
   ]
  },
  {
   "cell_type": "markdown",
   "id": "d5965602",
   "metadata": {},
   "source": [
    "# Q-8 Write a program to accept 10 numbers from the user and display the largest & smallest number number."
   ]
  },
  {
   "cell_type": "code",
   "execution_count": 26,
   "id": "dd2ed529",
   "metadata": {},
   "outputs": [
    {
     "name": "stdout",
     "output_type": "stream",
     "text": [
      "Enter 10 No.:\n",
      "Enter your no.=8\n",
      "Enter your no.=6\n",
      "Enter your no.=9\n",
      "Enter your no.=6\n",
      "Enter your no.=4\n",
      "Enter your no.=12\n",
      "Enter your no.=44\n",
      "Enter your no.=12\n",
      "Enter your no.=14\n",
      "Enter your no.=18\n",
      "Smallest No. is  4\n",
      "Biggest No. is  44\n"
     ]
    }
   ],
   "source": [
    "print(\"Enter 10 No.:\")\n",
    "n=10\n",
    "b=0\n",
    "l=0\n",
    "while n!=0:\n",
    "    a=int(input(\"Enter your no.=\"))\n",
    "    if b==0:\n",
    "        s=a\n",
    "        b+=1\n",
    "    if a>l:\n",
    "        l=a\n",
    "    if a<s:\n",
    "        s=a\n",
    "    n=n-1\n",
    "print(\"Smallest No. is \",s)\n",
    "print(\"Biggest No. is \",l)"
   ]
  },
  {
   "cell_type": "markdown",
   "id": "9a7301d7",
   "metadata": {},
   "source": [
    "# Q-9 Write a program to print the following series till n terms.   \n",
    "#### 1\n",
    "#### 4\n",
    "#### 9\n",
    "#### 16\n",
    "#### 25\n",
    "#### n terms."
   ]
  },
  {
   "cell_type": "code",
   "execution_count": 24,
   "id": "80930197",
   "metadata": {},
   "outputs": [
    {
     "name": "stdout",
     "output_type": "stream",
     "text": [
      "Enter a no.=10\n",
      "1\n",
      "4\n",
      "9\n",
      "16\n",
      "25\n",
      "36\n",
      "49\n",
      "64\n",
      "81\n",
      "100\n"
     ]
    }
   ],
   "source": [
    "n=int(input(\"Enter a no.=\"))\n",
    "a=1\n",
    "while n!=0:\n",
    "    print(a**2)\n",
    "    a=a+1\n",
    "    n=n-1"
   ]
  },
  {
   "cell_type": "markdown",
   "id": "cbba3772",
   "metadata": {},
   "source": [
    "# Q-10 Write a program to display the number names of the digits of a number entered by user, \n",
    "#### for example if the number is 231 \n",
    "#### then output should be \n",
    "#### Two\n",
    "#### Three\n",
    "#### One\n"
   ]
  },
  {
   "cell_type": "code",
   "execution_count": 7,
   "id": "1f06fa32",
   "metadata": {},
   "outputs": [
    {
     "name": "stdout",
     "output_type": "stream",
     "text": [
      "Enter any no.=1244\n",
      "one\n",
      "Two\n",
      "four\n",
      "four\n"
     ]
    }
   ],
   "source": [
    "b=0\n",
    "e=0\n",
    "n=int(input(\"Enter any no.=\"))\n",
    "while n!=0:\n",
    "    a=n%10\n",
    "    b=b*10+a\n",
    "    n=n//10\n",
    "# print(b)\n",
    "while b!=0:\n",
    "    d=b%10\n",
    "#     e=e*10+d\n",
    "    b=b//10\n",
    "    if d==1:\n",
    "        print(\"one\")\n",
    "    elif d==2:\n",
    "        print(\"Two\")\n",
    "    elif d==3:\n",
    "        print(\"Three\")\n",
    "    elif d==4:\n",
    "        print(\"four\")\n",
    "    elif d==5:\n",
    "        print(\"five\")\n",
    "    elif d==6:\n",
    "        print(\"six\")\n",
    "    elif d==7:\n",
    "        print(\"Seven\")\n",
    "    elif d==8:\n",
    "        print(\"Eight\")\n",
    "    elif d==9:\n",
    "        print(\"Nine\")\n",
    "    else:\n",
    "        print(\"Zero\")\n",
    "# print(e)"
   ]
  },
  {
   "cell_type": "markdown",
   "id": "734fbaec",
   "metadata": {},
   "source": [
    "# Q-11 Q11. Write a python program to get the following output   \n",
    "1—–49   \n",
    "   \n",
    "2—–48   \n",
    "   \n",
    "3—–47   \n",
    "   \n",
    ". .   \n",
    "   \n",
    ". .   \n",
    "   \n",
    ". .   \n",
    "   \n",
    "48—–2   \n",
    "   \n",
    "49—–1\n"
   ]
  },
  {
   "cell_type": "code",
   "execution_count": 23,
   "id": "22ef51b8",
   "metadata": {},
   "outputs": [
    {
     "name": "stdout",
     "output_type": "stream",
     "text": [
      "1 ---- 49\n",
      "2 ---- 48\n",
      "3 ---- 47\n",
      "4 ---- 46\n",
      "5 ---- 45\n",
      "6 ---- 44\n",
      "7 ---- 43\n",
      "8 ---- 42\n",
      "9 ---- 41\n",
      "10 ---- 40\n",
      "11 ---- 39\n",
      "12 ---- 38\n",
      "13 ---- 37\n",
      "14 ---- 36\n",
      "15 ---- 35\n",
      "16 ---- 34\n",
      "17 ---- 33\n",
      "18 ---- 32\n",
      "19 ---- 31\n",
      "20 ---- 30\n",
      "21 ---- 29\n",
      "22 ---- 28\n",
      "23 ---- 27\n",
      "24 ---- 26\n",
      "25 ---- 25\n",
      "26 ---- 24\n",
      "27 ---- 23\n",
      "28 ---- 22\n",
      "29 ---- 21\n",
      "30 ---- 20\n",
      "31 ---- 19\n",
      "32 ---- 18\n",
      "33 ---- 17\n",
      "34 ---- 16\n",
      "35 ---- 15\n",
      "36 ---- 14\n",
      "37 ---- 13\n",
      "38 ---- 12\n",
      "39 ---- 11\n",
      "40 ---- 10\n",
      "41 ---- 9\n",
      "42 ---- 8\n",
      "43 ---- 7\n",
      "44 ---- 6\n",
      "45 ---- 5\n",
      "46 ---- 4\n",
      "47 ---- 3\n",
      "48 ---- 2\n",
      "49 ---- 1\n"
     ]
    }
   ],
   "source": [
    "a=1\n",
    "b=49\n",
    "while b!=0:\n",
    "    print(a,\"----\",b)\n",
    "    a=a+1\n",
    "    b=b-1"
   ]
  }
 ],
 "metadata": {
  "kernelspec": {
   "display_name": "Python 3 (ipykernel)",
   "language": "python",
   "name": "python3"
  },
  "language_info": {
   "codemirror_mode": {
    "name": "ipython",
    "version": 3
   },
   "file_extension": ".py",
   "mimetype": "text/x-python",
   "name": "python",
   "nbconvert_exporter": "python",
   "pygments_lexer": "ipython3",
   "version": "3.9.12"
  }
 },
 "nbformat": 4,
 "nbformat_minor": 5
}
